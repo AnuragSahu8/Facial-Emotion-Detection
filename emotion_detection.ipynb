{
 "cells": [
  {
   "cell_type": "code",
   "execution_count": 32,
   "id": "dce3f580-b0c3-4509-beb1-ca70442f735e",
   "metadata": {
    "scrolled": true
   },
   "outputs": [
    {
     "name": "stdout",
     "output_type": "stream",
     "text": [
      "Collecting keras-tuner\n",
      "  Downloading keras_tuner-1.4.7-py3-none-any.whl.metadata (5.4 kB)\n",
      "Requirement already satisfied: keras in c:\\users\\dell\\anaconda3\\envs\\tensorflowgpu\\lib\\site-packages (from keras-tuner) (2.10.0)\n",
      "Requirement already satisfied: packaging in c:\\users\\dell\\anaconda3\\envs\\tensorflowgpu\\lib\\site-packages (from keras-tuner) (23.2)\n",
      "Requirement already satisfied: requests in c:\\users\\dell\\anaconda3\\envs\\tensorflowgpu\\lib\\site-packages (from keras-tuner) (2.31.0)\n",
      "Collecting kt-legacy (from keras-tuner)\n",
      "  Downloading kt_legacy-1.0.5-py3-none-any.whl.metadata (221 bytes)\n",
      "Requirement already satisfied: charset-normalizer<4,>=2 in c:\\users\\dell\\anaconda3\\envs\\tensorflowgpu\\lib\\site-packages (from requests->keras-tuner) (2.0.4)\n",
      "Requirement already satisfied: idna<4,>=2.5 in c:\\users\\dell\\anaconda3\\envs\\tensorflowgpu\\lib\\site-packages (from requests->keras-tuner) (3.7)\n",
      "Requirement already satisfied: urllib3<3,>=1.21.1 in c:\\users\\dell\\anaconda3\\envs\\tensorflowgpu\\lib\\site-packages (from requests->keras-tuner) (2.1.0)\n",
      "Requirement already satisfied: certifi>=2017.4.17 in c:\\users\\dell\\anaconda3\\envs\\tensorflowgpu\\lib\\site-packages (from requests->keras-tuner) (2024.2.2)\n",
      "Downloading keras_tuner-1.4.7-py3-none-any.whl (129 kB)\n",
      "   ---------------------------------------- 0.0/129.1 kB ? eta -:--:--\n",
      "   -------------------------------------- - 122.9/129.1 kB 3.5 MB/s eta 0:00:01\n",
      "   ---------------------------------------- 129.1/129.1 kB 2.5 MB/s eta 0:00:00\n",
      "Downloading kt_legacy-1.0.5-py3-none-any.whl (9.6 kB)\n",
      "Installing collected packages: kt-legacy, keras-tuner\n",
      "Successfully installed keras-tuner-1.4.7 kt-legacy-1.0.5\n"
     ]
    }
   ],
   "source": [
    "! pip install keras-tuner --upgrade"
   ]
  },
  {
   "cell_type": "code",
   "execution_count": 1,
   "id": "2396b2b1",
   "metadata": {},
   "outputs": [],
   "source": [
    "import matplotlib.pyplot as plt\n",
    "import tensorflow as tf\n",
    "from tensorflow.keras.models import Sequential\n",
    "from tensorflow.keras.layers import Dense,Conv2D,MaxPooling2D,Flatten,Dropout\n",
    "from keras.optimizers import Adam\n",
    "from keras.preprocessing.image import ImageDataGenerator "
   ]
  },
  {
   "cell_type": "code",
   "execution_count": 18,
   "id": "3fff5035",
   "metadata": {},
   "outputs": [
    {
     "name": "stdout",
     "output_type": "stream",
     "text": [
      "Tue Apr 30 13:31:18 2024       \n",
      "+---------------------------------------------------------------------------------------+\n",
      "| NVIDIA-SMI 532.09                 Driver Version: 532.09       CUDA Version: 12.1     |\n",
      "|-----------------------------------------+----------------------+----------------------+\n",
      "| GPU  Name                      TCC/WDDM | Bus-Id        Disp.A | Volatile Uncorr. ECC |\n",
      "| Fan  Temp  Perf            Pwr:Usage/Cap|         Memory-Usage | GPU-Util  Compute M. |\n",
      "|                                         |                      |               MIG M. |\n",
      "|=========================================+======================+======================|\n",
      "|   0  NVIDIA GeForce RTX 3050 L...  WDDM | 00000000:01:00.0 Off |                  N/A |\n",
      "| N/A   60C    P8               10W /  N/A|   1846MiB /  4096MiB |      0%      Default |\n",
      "|                                         |                      |                  N/A |\n",
      "+-----------------------------------------+----------------------+----------------------+\n",
      "                                                                                         \n",
      "+---------------------------------------------------------------------------------------+\n",
      "| Processes:                                                                            |\n",
      "|  GPU   GI   CI        PID   Type   Process name                            GPU Memory |\n",
      "|        ID   ID                                                             Usage      |\n",
      "|=======================================================================================|\n",
      "|    0   N/A  N/A     13984      C   ...onda3\\envs\\tensorflowgpu\\python.exe    N/A      |\n",
      "+---------------------------------------------------------------------------------------+\n"
     ]
    }
   ],
   "source": [
    "# print(tf.config.list_physical_devices())\n",
    "! nvidia-smi"
   ]
  },
  {
   "cell_type": "code",
   "execution_count": 2,
   "id": "5af22c16",
   "metadata": {},
   "outputs": [
    {
     "name": "stdout",
     "output_type": "stream",
     "text": [
      "[PhysicalDevice(name='/physical_device:CPU:0', device_type='CPU'), PhysicalDevice(name='/physical_device:GPU:0', device_type='GPU')]\n",
      "Num GPUs Available: 1\n",
      "Is TensorFlow using GPU: True\n"
     ]
    }
   ],
   "source": [
    "print(tf.config.list_physical_devices())\n",
    "\n",
    "# Check if TensorFlow is using GPU\n",
    "print(\"Num GPUs Available:\", len(tf.config.experimental.list_physical_devices('GPU')))\n",
    "\n",
    "# Check if TensorFlow is using GPU for operations\n",
    "print(\"Is TensorFlow using GPU:\", tf.test.is_built_with_cuda())"
   ]
  },
  {
   "cell_type": "code",
   "execution_count": 3,
   "id": "c91f3c95",
   "metadata": {},
   "outputs": [],
   "source": [
    "train_data_gen=ImageDataGenerator(rescale=1./255)\n",
    "validation_data_gen=ImageDataGenerator(rescale=1./255)"
   ]
  },
  {
   "cell_type": "code",
   "execution_count": 4,
   "id": "c1c0efa7",
   "metadata": {},
   "outputs": [
    {
     "name": "stdout",
     "output_type": "stream",
     "text": [
      "Found 28709 images belonging to 7 classes.\n",
      "Found 7178 images belonging to 7 classes.\n"
     ]
    }
   ],
   "source": [
    "train_generator=train_data_gen.flow_from_directory(\"data/train\",\n",
    "                                                   target_size=(48,48),\n",
    "                                                   color_mode=\"grayscale\",\n",
    "                                                   batch_size=64,\n",
    "                                                   class_mode=\"categorical\")\n",
    "\n",
    "validation_generator=validation_data_gen.flow_from_directory(\"data/test\",\n",
    "                                                   target_size=(48,48),\n",
    "                                                   color_mode=\"grayscale\",\n",
    "                                                   batch_size=64,\n",
    "                                                   class_mode=\"categorical\")"
   ]
  },
  {
   "cell_type": "code",
   "execution_count": 28,
   "id": "e5d2eb27",
   "metadata": {},
   "outputs": [],
   "source": [
    "emotion_model=Sequential()\n",
    "\n",
    "emotion_model.add(Conv2D(32,kernel_size=(3,3),activation=\"relu\",input_shape=(48,48,1)))\n",
    "emotion_model.add(Conv2D(64,kernel_size=(3,3),activation=\"relu\"))\n",
    "emotion_model.add(MaxPooling2D(pool_size=(2,2)))\n",
    "emotion_model.add(Dropout(0.25))\n",
    "\n",
    "emotion_model.add(Conv2D(128,kernel_size=(3,3),activation=\"relu\"))\n",
    "emotion_model.add(MaxPooling2D(pool_size=(2,2)))      \n",
    "emotion_model.add(Conv2D(128,kernel_size=(3,3),activation=\"relu\"))\n",
    "emotion_model.add(MaxPooling2D(pool_size=(2,2))) \n",
    "emotion_model.add(Dropout(0.25))\n",
    "\n",
    "emotion_model.add(Flatten())\n",
    "emotion_model.add(Dense(1024,activation=\"relu\",kernel_regularizer=tf.keras.regularizers.l2(0.001)))\n",
    "emotion_model.add(Dropout(0.5))\n",
    "\n",
    "emotion_model.add(Dense(7,activation=\"softmax\"))\n",
    "\n",
    "emotion_model.compile(optimizer=Adam(learning_rate=0.001,decay=1e-6),loss=\"categorical_crossentropy\",metrics=[\"accuracy\"])"
   ]
  },
  {
   "cell_type": "code",
   "execution_count": 29,
   "id": "4673698a",
   "metadata": {},
   "outputs": [
    {
     "name": "stderr",
     "output_type": "stream",
     "text": [
      "C:\\Users\\Dell\\AppData\\Local\\Temp\\ipykernel_13908\\2599096187.py:1: UserWarning: `Model.fit_generator` is deprecated and will be removed in a future version. Please use `Model.fit`, which supports generators.\n",
      "  model_history=emotion_model.fit_generator(train_generator,\n"
     ]
    },
    {
     "name": "stdout",
     "output_type": "stream",
     "text": [
      "Epoch 1/50\n",
      "448/448 [==============================] - 139s 307ms/step - loss: 1.8628 - accuracy: 0.2975 - val_loss: 1.5779 - val_accuracy: 0.4083\n",
      "Epoch 2/50\n",
      "448/448 [==============================] - 11s 25ms/step - loss: 1.5392 - accuracy: 0.4335 - val_loss: 1.4153 - val_accuracy: 0.4923\n",
      "Epoch 3/50\n",
      "448/448 [==============================] - 11s 25ms/step - loss: 1.4115 - accuracy: 0.4931 - val_loss: 1.3330 - val_accuracy: 0.5229\n",
      "Epoch 4/50\n",
      "448/448 [==============================] - 11s 25ms/step - loss: 1.3447 - accuracy: 0.5249 - val_loss: 1.2906 - val_accuracy: 0.5481\n",
      "Epoch 5/50\n",
      "448/448 [==============================] - 11s 26ms/step - loss: 1.3049 - accuracy: 0.5469 - val_loss: 1.2860 - val_accuracy: 0.5520\n",
      "Epoch 6/50\n",
      "448/448 [==============================] - 11s 26ms/step - loss: 1.2683 - accuracy: 0.5628 - val_loss: 1.2399 - val_accuracy: 0.5692\n",
      "Epoch 7/50\n",
      "448/448 [==============================] - 12s 26ms/step - loss: 1.2414 - accuracy: 0.5762 - val_loss: 1.2220 - val_accuracy: 0.5813\n",
      "Epoch 8/50\n",
      "448/448 [==============================] - 12s 26ms/step - loss: 1.2245 - accuracy: 0.5844 - val_loss: 1.2223 - val_accuracy: 0.5812\n",
      "Epoch 9/50\n",
      "448/448 [==============================] - 12s 26ms/step - loss: 1.2013 - accuracy: 0.5946 - val_loss: 1.2063 - val_accuracy: 0.5914\n",
      "Epoch 10/50\n",
      "448/448 [==============================] - 11s 25ms/step - loss: 1.1854 - accuracy: 0.6028 - val_loss: 1.2058 - val_accuracy: 0.5924\n",
      "Epoch 11/50\n",
      "448/448 [==============================] - 12s 26ms/step - loss: 1.1624 - accuracy: 0.6111 - val_loss: 1.2183 - val_accuracy: 0.5929\n",
      "Epoch 12/50\n",
      "448/448 [==============================] - 12s 27ms/step - loss: 1.1535 - accuracy: 0.6199 - val_loss: 1.2094 - val_accuracy: 0.5921\n",
      "Epoch 13/50\n",
      "448/448 [==============================] - 12s 27ms/step - loss: 1.1305 - accuracy: 0.6281 - val_loss: 1.1919 - val_accuracy: 0.6024\n",
      "Epoch 14/50\n",
      "448/448 [==============================] - 12s 26ms/step - loss: 1.1217 - accuracy: 0.6338 - val_loss: 1.2156 - val_accuracy: 0.5953\n",
      "Epoch 15/50\n",
      "448/448 [==============================] - 12s 28ms/step - loss: 1.1060 - accuracy: 0.6396 - val_loss: 1.2014 - val_accuracy: 0.6004\n",
      "Epoch 16/50\n",
      "448/448 [==============================] - 13s 28ms/step - loss: 1.0994 - accuracy: 0.6438 - val_loss: 1.2175 - val_accuracy: 0.5972\n",
      "Epoch 17/50\n",
      "448/448 [==============================] - 83s 186ms/step - loss: 1.0806 - accuracy: 0.6527 - val_loss: 1.2216 - val_accuracy: 0.6017\n",
      "Epoch 18/50\n",
      "448/448 [==============================] - 12s 26ms/step - loss: 1.0740 - accuracy: 0.6549 - val_loss: 1.2151 - val_accuracy: 0.6062\n",
      "Epoch 19/50\n",
      "448/448 [==============================] - 12s 26ms/step - loss: 1.0692 - accuracy: 0.6606 - val_loss: 1.2233 - val_accuracy: 0.5953\n",
      "Epoch 20/50\n",
      "448/448 [==============================] - 12s 26ms/step - loss: 1.0472 - accuracy: 0.6683 - val_loss: 1.2311 - val_accuracy: 0.6048\n",
      "Epoch 21/50\n",
      "448/448 [==============================] - 12s 27ms/step - loss: 1.0445 - accuracy: 0.6690 - val_loss: 1.2531 - val_accuracy: 0.5968\n",
      "Epoch 22/50\n",
      "448/448 [==============================] - 13s 29ms/step - loss: 1.0265 - accuracy: 0.6774 - val_loss: 1.2423 - val_accuracy: 0.6006\n",
      "Epoch 23/50\n",
      "448/448 [==============================] - 13s 29ms/step - loss: 1.0254 - accuracy: 0.6810 - val_loss: 1.2417 - val_accuracy: 0.6049\n",
      "Epoch 24/50\n",
      "448/448 [==============================] - 13s 29ms/step - loss: 1.0098 - accuracy: 0.6871 - val_loss: 1.2538 - val_accuracy: 0.6004\n",
      "Epoch 25/50\n",
      "448/448 [==============================] - 12s 28ms/step - loss: 1.0129 - accuracy: 0.6871 - val_loss: 1.2695 - val_accuracy: 0.6027\n",
      "Epoch 26/50\n",
      "448/448 [==============================] - 13s 28ms/step - loss: 1.0000 - accuracy: 0.6936 - val_loss: 1.2604 - val_accuracy: 0.6037\n",
      "Epoch 27/50\n",
      "448/448 [==============================] - 13s 28ms/step - loss: 0.9872 - accuracy: 0.6968 - val_loss: 1.2697 - val_accuracy: 0.6087\n",
      "Epoch 28/50\n",
      "448/448 [==============================] - 13s 29ms/step - loss: 0.9857 - accuracy: 0.7023 - val_loss: 1.2578 - val_accuracy: 0.6083\n",
      "Epoch 29/50\n",
      "448/448 [==============================] - 12s 27ms/step - loss: 0.9754 - accuracy: 0.7036 - val_loss: 1.2802 - val_accuracy: 0.6067\n",
      "Epoch 30/50\n",
      "448/448 [==============================] - 13s 29ms/step - loss: 0.9726 - accuracy: 0.7068 - val_loss: 1.2644 - val_accuracy: 0.6109\n",
      "Epoch 31/50\n",
      "448/448 [==============================] - 13s 29ms/step - loss: 0.9608 - accuracy: 0.7114 - val_loss: 1.2893 - val_accuracy: 0.6009\n",
      "Epoch 32/50\n",
      "448/448 [==============================] - 13s 29ms/step - loss: 0.9606 - accuracy: 0.7100 - val_loss: 1.2935 - val_accuracy: 0.6137\n",
      "Epoch 33/50\n",
      "448/448 [==============================] - 13s 29ms/step - loss: 0.9586 - accuracy: 0.7142 - val_loss: 1.3205 - val_accuracy: 0.5977\n",
      "Epoch 34/50\n",
      "448/448 [==============================] - 12s 28ms/step - loss: 0.9492 - accuracy: 0.7166 - val_loss: 1.2951 - val_accuracy: 0.6083\n",
      "Epoch 35/50\n",
      "448/448 [==============================] - 13s 29ms/step - loss: 0.9398 - accuracy: 0.7219 - val_loss: 1.3088 - val_accuracy: 0.6053\n",
      "Epoch 36/50\n",
      "448/448 [==============================] - 13s 29ms/step - loss: 0.9321 - accuracy: 0.7232 - val_loss: 1.3367 - val_accuracy: 0.5971\n",
      "Epoch 37/50\n",
      "448/448 [==============================] - 13s 30ms/step - loss: 0.9293 - accuracy: 0.7269 - val_loss: 1.3028 - val_accuracy: 0.6098\n",
      "Epoch 38/50\n",
      "448/448 [==============================] - 13s 29ms/step - loss: 0.9222 - accuracy: 0.7306 - val_loss: 1.3325 - val_accuracy: 0.6077\n",
      "Epoch 39/50\n",
      "448/448 [==============================] - 13s 28ms/step - loss: 0.9236 - accuracy: 0.7296 - val_loss: 1.3219 - val_accuracy: 0.6006\n",
      "Epoch 40/50\n",
      "448/448 [==============================] - 13s 28ms/step - loss: 0.9132 - accuracy: 0.7337 - val_loss: 1.3117 - val_accuracy: 0.6020\n",
      "Epoch 41/50\n",
      "448/448 [==============================] - 13s 29ms/step - loss: 0.9049 - accuracy: 0.7399 - val_loss: 1.3429 - val_accuracy: 0.6017\n",
      "Epoch 42/50\n",
      "448/448 [==============================] - 13s 29ms/step - loss: 0.9077 - accuracy: 0.7347 - val_loss: 1.3531 - val_accuracy: 0.6057\n",
      "Epoch 43/50\n",
      "448/448 [==============================] - 13s 30ms/step - loss: 0.9102 - accuracy: 0.7375 - val_loss: 1.3745 - val_accuracy: 0.6030\n",
      "Epoch 44/50\n",
      "448/448 [==============================] - 13s 30ms/step - loss: 0.8988 - accuracy: 0.7415 - val_loss: 1.3400 - val_accuracy: 0.6039\n",
      "Epoch 45/50\n",
      "448/448 [==============================] - 13s 28ms/step - loss: 0.8900 - accuracy: 0.7470 - val_loss: 1.3945 - val_accuracy: 0.6049\n",
      "Epoch 46/50\n",
      "448/448 [==============================] - 13s 29ms/step - loss: 0.8845 - accuracy: 0.7489 - val_loss: 1.3630 - val_accuracy: 0.6063\n",
      "Epoch 47/50\n",
      "448/448 [==============================] - 13s 30ms/step - loss: 0.8790 - accuracy: 0.7513 - val_loss: 1.3859 - val_accuracy: 0.6077\n",
      "Epoch 48/50\n",
      "448/448 [==============================] - 13s 29ms/step - loss: 0.8799 - accuracy: 0.7503 - val_loss: 1.3845 - val_accuracy: 0.6074\n",
      "Epoch 49/50\n",
      "448/448 [==============================] - 13s 29ms/step - loss: 0.8761 - accuracy: 0.7535 - val_loss: 1.3916 - val_accuracy: 0.6070\n",
      "Epoch 50/50\n",
      "448/448 [==============================] - 13s 29ms/step - loss: 0.8736 - accuracy: 0.7540 - val_loss: 1.3588 - val_accuracy: 0.6030\n"
     ]
    }
   ],
   "source": [
    "model_history=emotion_model.fit_generator(train_generator,\n",
    "                                          steps_per_epoch=28709//64,\n",
    "                                          epochs=50,\n",
    "                                          validation_data=validation_generator,\n",
    "                                          validation_steps=7178//64)"
   ]
  },
  {
   "cell_type": "code",
   "execution_count": 30,
   "id": "ce939b4c-2cc7-4c66-a4df-c4ecddc6946f",
   "metadata": {},
   "outputs": [],
   "source": [
    "def plot_loss_curves(history):\n",
    "  plt.figure(figsize=(6,6))\n",
    "  epochs=len(history.epoch)\n",
    "  loss=history.history['loss']\n",
    "  val_loss=history.history['val_loss']\n",
    "\n",
    "  accuracy=history.history['accuracy']\n",
    "  val_accuracy=history.history['val_accuracy']\n",
    "\n",
    "\n",
    "# Accuracy curve\n",
    "  plt.title('Accuracy')\n",
    "  plt.plot(range(epochs),accuracy,label='train_acc')\n",
    "  plt.plot(range(epochs),val_accuracy,label='val_acc')\n",
    "  plt.xlabel(\"epochs\")\n",
    "  plt.ylabel(\"accuracy\")\n",
    "  plt.legend()\n",
    "\n",
    "\n",
    "# loss curve\n",
    "  plt.figure()\n",
    "  plt.title('Loss')\n",
    "  plt.plot(range(epochs),loss,label='train_loss')\n",
    "  plt.plot(range(epochs),val_loss,label='val_loss')\n",
    "  plt.xlabel(\"epochs\")\n",
    "  plt.ylabel(\"loss\")\n",
    "  plt.legend()"
   ]
  },
  {
   "cell_type": "code",
   "execution_count": 31,
   "id": "57ac5f1b-6170-442d-9c46-8e8c802490e3",
   "metadata": {},
   "outputs": [
    {
     "data": {
      "image/png": "[encoded data removed]",
      "text/plain": [
       "<Figure size 600x600 with 1 Axes>"
      ]
     },
     "metadata": {},
     "output_type": "display_data"
    },
    {
     "data": {
      "image/png": "[encoded data removed]",
      "text/plain": [
       "<Figure size 640x480 with 1 Axes>"
      ]
     },
     "metadata": {},
     "output_type": "display_data"
    }
   ],
   "source": [
    "plot_loss_curves(model_history)"
   ]
  },
  {
   "cell_type": "code",
   "execution_count": 33,
   "id": "50e9efee-2228-4a05-8975-70a0af7259a5",
   "metadata": {},
   "outputs": [],
   "source": [
    "import keras_tuner\n",
    "import keras"
   ]
  },
  {
   "cell_type": "code",
   "execution_count": 48,
   "id": "ca25a78e-8525-444f-96cf-fb3898b209a1",
   "metadata": {},
   "outputs": [],
   "source": [
    "def build_model(hp):\n",
    "    \n",
    "    model = keras.Sequential()\n",
    "    model.add(keras.layers.Conv2D(\n",
    "                                filters=hp.Int('conv_1_filter',min_value=32,max_value=64,step=16),\n",
    "                                kernel_size=hp.Choice(\"conv_1_kernel_size\",values=[3,5]),\n",
    "                                activation='relu',\n",
    "                                input_shape=(48,48,1)))\n",
    "  \n",
    "    model.add(keras.layers.Conv2D(\n",
    "                                filters=hp.Int('conv_2_filter',min_value=64,max_value=128,step=16),\n",
    "                                kernel_size=hp.Choice(\"conv_2_kernel_size\",values=[3,5]),\n",
    "                                activation='relu'))\n",
    "\n",
    "    model.add(keras.layers.MaxPooling2D(\n",
    "                                pool_size=hp.Choice(\"pool_size_1\",values=[2,3])))\n",
    "\n",
    "    model.add(keras.layers.Dropout(rate=hp.Choice(\"rate_1\",[0.2,0.3,0.5])))\n",
    "\n",
    "    \n",
    "\n",
    "    model.add(keras.layers.Conv2D(\n",
    "                                filters=hp.Int('conv_3_filter',min_value=128,max_value=512,step=16),\n",
    "                                kernel_size=hp.Choice(\"conv_3_kernel_size\",values=[3,5]),\n",
    "                                activation='relu'))\n",
    "\n",
    "    model.add(keras.layers.MaxPooling2D(\n",
    "                                pool_size=hp.Choice(\"pool_size_2\",values=[2,3])))\n",
    "\n",
    "    model.add(keras.layers.Dropout(rate=hp.Choice(\"rate_2\",[0.2,0.3,0.5])))\n",
    "\n",
    "    model.add(keras.layers.Flatten())\n",
    "\n",
    "    model.add(keras.layers.Dense(units=hp.Int(\"units\",min_value=128,max_value=1024),\n",
    "                                activation=\"relu\"))\n",
    "\n",
    "    model.add(keras.layers.Dense(7,activation=\"softmax\"))\n",
    "    \n",
    "    model.compile(optimizer=keras.optimizers.Adam(hp.Choice(\"learning_rate\",[1e-2,1e-3])),\n",
    "                 loss=\"categorical_crossentropy\",\n",
    "                 metrics=[\"accuracy\"])\n",
    "    return model"
   ]
  },
  {
   "cell_type": "code",
   "execution_count": 35,
   "id": "50d8b931-dd55-4c47-8834-1c2be99bcb82",
   "metadata": {},
   "outputs": [],
   "source": [
    "from kerastuner import RandomSearch\n",
    "from kerastuner.engine import hyperparameters"
   ]
  },
  {
   "cell_type": "code",
   "execution_count": 49,
   "id": "f952af8c-8377-4660-a150-7ac919da1e4c",
   "metadata": {},
   "outputs": [],
   "source": [
    "tuner=RandomSearch(build_model,\n",
    "                   objective=\"val_accuracy\",\n",
    "                   max_trials=5,\n",
    "                   directory=\"output\",\n",
    "                   project_name=\"Image_classification\")"
   ]
  },
  {
   "cell_type": "code",
   "execution_count": 50,
   "id": "f3e1e4ca-913e-4a8d-85f1-bb502020d396",
   "metadata": {},
   "outputs": [
    {
     "name": "stdout",
     "output_type": "stream",
     "text": [
      "Trial 5 Complete [00h 00m 44s]\n",
      "val_accuracy: 0.2472098171710968\n",
      "\n",
      "Best val_accuracy So Far: 0.5189732313156128\n",
      "Total elapsed time: 00h 07m 53s\n"
     ]
    }
   ],
   "source": [
    "tuner.search(train_generator,\n",
    "             steps_per_epoch=28709//64,\n",
    "             epochs=3,\n",
    "             validation_data=validation_generator,\n",
    "             validation_steps=7178//64)"
   ]
  },
  {
   "cell_type": "code",
   "execution_count": 68,
   "id": "678211a4-4e48-4bd6-9049-5a8ba3de6d70",
   "metadata": {},
   "outputs": [
    {
     "data": {
      "text/plain": [
       "{'name': 'sequential',\n",
       " 'layers': [{'class_name': 'InputLayer',\n",
       "   'config': {'batch_input_shape': (None, 48, 48, 1),\n",
       "    'dtype': 'float32',\n",
       "    'sparse': False,\n",
       "    'ragged': False,\n",
       "    'name': 'conv2d_input'}},\n",
       "  {'class_name': 'Conv2D',\n",
       "   'config': {'name': 'conv2d',\n",
       "    'trainable': True,\n",
       "    'batch_input_shape': (None, 48, 48, 1),\n",
       "    'dtype': 'float32',\n",
       "    'filters': 64,\n",
       "    'kernel_size': (3, 3),\n",
       "    'strides': (1, 1),\n",
       "    'padding': 'valid',\n",
       "    'data_format': 'channels_last',\n",
       "    'dilation_rate': (1, 1),\n",
       "    'groups': 1,\n",
       "    'activation': 'relu',\n",
       "    'use_bias': True,\n",
       "    'kernel_initializer': {'class_name': 'GlorotUniform',\n",
       "     'config': {'seed': None}},\n",
       "    'bias_initializer': {'class_name': 'Zeros', 'config': {}},\n",
       "    'kernel_regularizer': None,\n",
       "    'bias_regularizer': None,\n",
       "    'activity_regularizer': None,\n",
       "    'kernel_constraint': None,\n",
       "    'bias_constraint': None}},\n",
       "  {'class_name': 'Conv2D',\n",
       "   'config': {'name': 'conv2d_1',\n",
       "    'trainable': True,\n",
       "    'dtype': 'float32',\n",
       "    'filters': 64,\n",
       "    'kernel_size': (5, 5),\n",
       "    'strides': (1, 1),\n",
       "    'padding': 'valid',\n",
       "    'data_format': 'channels_last',\n",
       "    'dilation_rate': (1, 1),\n",
       "    'groups': 1,\n",
       "    'activation': 'relu',\n",
       "    'use_bias': True,\n",
       "    'kernel_initializer': {'class_name': 'GlorotUniform',\n",
       "     'config': {'seed': None}},\n",
       "    'bias_initializer': {'class_name': 'Zeros', 'config': {}},\n",
       "    'kernel_regularizer': None,\n",
       "    'bias_regularizer': None,\n",
       "    'activity_regularizer': None,\n",
       "    'kernel_constraint': None,\n",
       "    'bias_constraint': None}},\n",
       "  {'class_name': 'MaxPooling2D',\n",
       "   'config': {'name': 'max_pooling2d',\n",
       "    'trainable': True,\n",
       "    'dtype': 'float32',\n",
       "    'pool_size': (3, 3),\n",
       "    'padding': 'valid',\n",
       "    'strides': (3, 3),\n",
       "    'data_format': 'channels_last'}},\n",
       "  {'class_name': 'Dropout',\n",
       "   'config': {'name': 'dropout',\n",
       "    'trainable': True,\n",
       "    'dtype': 'float32',\n",
       "    'rate': 0.2,\n",
       "    'noise_shape': None,\n",
       "    'seed': None}},\n",
       "  {'class_name': 'Conv2D',\n",
       "   'config': {'name': 'conv2d_2',\n",
       "    'trainable': True,\n",
       "    'dtype': 'float32',\n",
       "    'filters': 512,\n",
       "    'kernel_size': (5, 5),\n",
       "    'strides': (1, 1),\n",
       "    'padding': 'valid',\n",
       "    'data_format': 'channels_last',\n",
       "    'dilation_rate': (1, 1),\n",
       "    'groups': 1,\n",
       "    'activation': 'relu',\n",
       "    'use_bias': True,\n",
       "    'kernel_initializer': {'class_name': 'GlorotUniform',\n",
       "     'config': {'seed': None}},\n",
       "    'bias_initializer': {'class_name': 'Zeros', 'config': {}},\n",
       "    'kernel_regularizer': None,\n",
       "    'bias_regularizer': None,\n",
       "    'activity_regularizer': None,\n",
       "    'kernel_constraint': None,\n",
       "    'bias_constraint': None}},\n",
       "  {'class_name': 'MaxPooling2D',\n",
       "   'config': {'name': 'max_pooling2d_1',\n",
       "    'trainable': True,\n",
       "    'dtype': 'float32',\n",
       "    'pool_size': (3, 3),\n",
       "    'padding': 'valid',\n",
       "    'strides': (3, 3),\n",
       "    'data_format': 'channels_last'}},\n",
       "  {'class_name': 'Dropout',\n",
       "   'config': {'name': 'dropout_1',\n",
       "    'trainable': True,\n",
       "    'dtype': 'float32',\n",
       "    'rate': 0.2,\n",
       "    'noise_shape': None,\n",
       "    'seed': None}},\n",
       "  {'class_name': 'Flatten',\n",
       "   'config': {'name': 'flatten',\n",
       "    'trainable': True,\n",
       "    'dtype': 'float32',\n",
       "    'data_format': 'channels_last'}},\n",
       "  {'class_name': 'Dense',\n",
       "   'config': {'name': 'dense',\n",
       "    'trainable': True,\n",
       "    'dtype': 'float32',\n",
       "    'units': 866,\n",
       "    'activation': 'relu',\n",
       "    'use_bias': True,\n",
       "    'kernel_initializer': {'class_name': 'GlorotUniform',\n",
       "     'config': {'seed': None}},\n",
       "    'bias_initializer': {'class_name': 'Zeros', 'config': {}},\n",
       "    'kernel_regularizer': None,\n",
       "    'bias_regularizer': None,\n",
       "    'activity_regularizer': None,\n",
       "    'kernel_constraint': None,\n",
       "    'bias_constraint': None}},\n",
       "  {'class_name': 'Dense',\n",
       "   'config': {'name': 'dense_1',\n",
       "    'trainable': True,\n",
       "    'dtype': 'float32',\n",
       "    'units': 7,\n",
       "    'activation': 'softmax',\n",
       "    'use_bias': True,\n",
       "    'kernel_initializer': {'class_name': 'GlorotUniform',\n",
       "     'config': {'seed': None}},\n",
       "    'bias_initializer': {'class_name': 'Zeros', 'config': {}},\n",
       "    'kernel_regularizer': None,\n",
       "    'bias_regularizer': None,\n",
       "    'activity_regularizer': None,\n",
       "    'kernel_constraint': None,\n",
       "    'bias_constraint': None}}]}"
      ]
     },
     "execution_count": 68,
     "metadata": {},
     "output_type": "execute_result"
    }
   ],
   "source": [
    "model=tuner.get_best_models(num_models=1)[0]\n",
    "model.get_config()"
   ]
  },
  {
   "cell_type": "code",
   "execution_count": 69,
   "id": "cb4474f6-3a95-476b-85e9-e809463d66ac",
   "metadata": {},
   "outputs": [
    {
     "name": "stdout",
     "output_type": "stream",
     "text": [
      "Epoch 4/50\n",
      "448/448 [==============================] - 138s 307ms/step - loss: 1.2397 - accuracy: 0.5278 - val_loss: 1.2147 - val_accuracy: 0.5280\n",
      "Epoch 5/50\n",
      "448/448 [==============================] - 19s 42ms/step - loss: 1.1680 - accuracy: 0.5566 - val_loss: 1.1905 - val_accuracy: 0.5400\n",
      "Epoch 6/50\n",
      "448/448 [==============================] - 19s 42ms/step - loss: 1.1049 - accuracy: 0.5820 - val_loss: 1.1415 - val_accuracy: 0.5640\n",
      "Epoch 7/50\n",
      "448/448 [==============================] - 19s 43ms/step - loss: 1.0448 - accuracy: 0.6056 - val_loss: 1.1251 - val_accuracy: 0.5699\n",
      "Epoch 8/50\n",
      "448/448 [==============================] - 19s 42ms/step - loss: 0.9898 - accuracy: 0.6269 - val_loss: 1.1135 - val_accuracy: 0.5806\n",
      "Epoch 9/50\n",
      "448/448 [==============================] - 19s 42ms/step - loss: 0.9254 - accuracy: 0.6539 - val_loss: 1.1225 - val_accuracy: 0.5730\n",
      "Epoch 10/50\n",
      "448/448 [==============================] - 19s 42ms/step - loss: 0.8632 - accuracy: 0.6773 - val_loss: 1.1212 - val_accuracy: 0.5858\n",
      "Epoch 11/50\n",
      "448/448 [==============================] - 19s 42ms/step - loss: 0.8096 - accuracy: 0.6964 - val_loss: 1.1135 - val_accuracy: 0.6000\n",
      "Epoch 12/50\n",
      "448/448 [==============================] - 20s 44ms/step - loss: 0.7508 - accuracy: 0.7222 - val_loss: 1.1249 - val_accuracy: 0.5886\n",
      "Epoch 13/50\n",
      "448/448 [==============================] - 19s 43ms/step - loss: 0.6861 - accuracy: 0.7492 - val_loss: 1.2120 - val_accuracy: 0.5903\n",
      "Epoch 14/50\n",
      "448/448 [==============================] - 19s 43ms/step - loss: 0.6366 - accuracy: 0.7663 - val_loss: 1.2011 - val_accuracy: 0.5880\n",
      "Epoch 15/50\n",
      "448/448 [==============================] - 19s 43ms/step - loss: 0.5839 - accuracy: 0.7882 - val_loss: 1.2458 - val_accuracy: 0.5988\n",
      "Epoch 16/50\n",
      "448/448 [==============================] - 20s 44ms/step - loss: 0.5391 - accuracy: 0.8039 - val_loss: 1.2761 - val_accuracy: 0.5943\n",
      "Epoch 17/50\n",
      "448/448 [==============================] - 20s 45ms/step - loss: 0.5014 - accuracy: 0.8153 - val_loss: 1.3257 - val_accuracy: 0.5949\n",
      "Epoch 18/50\n",
      "448/448 [==============================] - 20s 45ms/step - loss: 0.4592 - accuracy: 0.8360 - val_loss: 1.3481 - val_accuracy: 0.6042\n",
      "Epoch 19/50\n",
      "448/448 [==============================] - 20s 45ms/step - loss: 0.4309 - accuracy: 0.8444 - val_loss: 1.3991 - val_accuracy: 0.5944\n",
      "Epoch 20/50\n",
      "448/448 [==============================] - 20s 44ms/step - loss: 0.4005 - accuracy: 0.8554 - val_loss: 1.4085 - val_accuracy: 0.6002\n",
      "Epoch 21/50\n",
      "448/448 [==============================] - 20s 45ms/step - loss: 0.3823 - accuracy: 0.8623 - val_loss: 1.5021 - val_accuracy: 0.5958\n",
      "Epoch 22/50\n",
      "448/448 [==============================] - 20s 44ms/step - loss: 0.3446 - accuracy: 0.8769 - val_loss: 1.4800 - val_accuracy: 0.5939\n",
      "Epoch 23/50\n",
      "448/448 [==============================] - 20s 44ms/step - loss: 0.3364 - accuracy: 0.8819 - val_loss: 1.5734 - val_accuracy: 0.6030\n",
      "Epoch 24/50\n",
      "448/448 [==============================] - 20s 44ms/step - loss: 0.3191 - accuracy: 0.8881 - val_loss: 1.6209 - val_accuracy: 0.5914\n",
      "Epoch 25/50\n",
      "448/448 [==============================] - 20s 46ms/step - loss: 0.3055 - accuracy: 0.8917 - val_loss: 1.6192 - val_accuracy: 0.5940\n",
      "Epoch 26/50\n",
      "448/448 [==============================] - 20s 44ms/step - loss: 0.2853 - accuracy: 0.8995 - val_loss: 1.6322 - val_accuracy: 0.5957\n",
      "Epoch 27/50\n",
      "448/448 [==============================] - 20s 45ms/step - loss: 0.2758 - accuracy: 0.9033 - val_loss: 1.6894 - val_accuracy: 0.5953\n",
      "Epoch 28/50\n",
      "448/448 [==============================] - 20s 45ms/step - loss: 0.2650 - accuracy: 0.9083 - val_loss: 1.6593 - val_accuracy: 0.5940\n",
      "Epoch 29/50\n",
      "448/448 [==============================] - 20s 45ms/step - loss: 0.2603 - accuracy: 0.9099 - val_loss: 1.6873 - val_accuracy: 0.5988\n",
      "Epoch 30/50\n",
      "448/448 [==============================] - 20s 44ms/step - loss: 0.2458 - accuracy: 0.9144 - val_loss: 1.7271 - val_accuracy: 0.5936\n",
      "Epoch 31/50\n",
      "448/448 [==============================] - 20s 45ms/step - loss: 0.2329 - accuracy: 0.9199 - val_loss: 1.7314 - val_accuracy: 0.5972\n",
      "Epoch 32/50\n",
      "448/448 [==============================] - 85s 191ms/step - loss: 0.2227 - accuracy: 0.9216 - val_loss: 1.8096 - val_accuracy: 0.5954\n",
      "Epoch 33/50\n",
      "448/448 [==============================] - 73s 161ms/step - loss: 0.2104 - accuracy: 0.9289 - val_loss: 1.8210 - val_accuracy: 0.5958\n",
      "Epoch 34/50\n",
      "448/448 [==============================] - 19s 43ms/step - loss: 0.2164 - accuracy: 0.9255 - val_loss: 1.8624 - val_accuracy: 0.5932\n",
      "Epoch 35/50\n",
      "448/448 [==============================] - 19s 43ms/step - loss: 0.2076 - accuracy: 0.9278 - val_loss: 1.8493 - val_accuracy: 0.5859\n",
      "Epoch 36/50\n",
      "448/448 [==============================] - 19s 43ms/step - loss: 0.1974 - accuracy: 0.9321 - val_loss: 1.9131 - val_accuracy: 0.5995\n",
      "Epoch 37/50\n",
      "448/448 [==============================] - 19s 43ms/step - loss: 0.1897 - accuracy: 0.9361 - val_loss: 1.9036 - val_accuracy: 0.5982\n",
      "Epoch 38/50\n",
      "448/448 [==============================] - 20s 44ms/step - loss: 0.1923 - accuracy: 0.9364 - val_loss: 1.8498 - val_accuracy: 0.5907\n",
      "Epoch 39/50\n",
      "448/448 [==============================] - 20s 44ms/step - loss: 0.1812 - accuracy: 0.9384 - val_loss: 1.8442 - val_accuracy: 0.5921\n",
      "Epoch 40/50\n",
      "448/448 [==============================] - 150s 335ms/step - loss: 0.1772 - accuracy: 0.9392 - val_loss: 1.9679 - val_accuracy: 0.5992\n",
      "Epoch 41/50\n",
      "448/448 [==============================] - 20s 45ms/step - loss: 0.1755 - accuracy: 0.9400 - val_loss: 1.9019 - val_accuracy: 0.5960\n",
      "Epoch 42/50\n",
      "448/448 [==============================] - 19s 43ms/step - loss: 0.1647 - accuracy: 0.9444 - val_loss: 1.9355 - val_accuracy: 0.5929\n",
      "Epoch 43/50\n",
      "448/448 [==============================] - 19s 43ms/step - loss: 0.1633 - accuracy: 0.9457 - val_loss: 2.0161 - val_accuracy: 0.5897\n",
      "Epoch 44/50\n",
      "448/448 [==============================] - 20s 44ms/step - loss: 0.1616 - accuracy: 0.9462 - val_loss: 2.0156 - val_accuracy: 0.5968\n",
      "Epoch 45/50\n",
      "448/448 [==============================] - 19s 43ms/step - loss: 0.1647 - accuracy: 0.9445 - val_loss: 2.0573 - val_accuracy: 0.5949\n",
      "Epoch 46/50\n",
      "448/448 [==============================] - 20s 44ms/step - loss: 0.1544 - accuracy: 0.9493 - val_loss: 1.9969 - val_accuracy: 0.5914\n",
      "Epoch 47/50\n",
      "448/448 [==============================] - 20s 44ms/step - loss: 0.1572 - accuracy: 0.9477 - val_loss: 2.1333 - val_accuracy: 0.5949\n",
      "Epoch 48/50\n",
      "448/448 [==============================] - 20s 45ms/step - loss: 0.1469 - accuracy: 0.9508 - val_loss: 2.0443 - val_accuracy: 0.5918\n",
      "Epoch 49/50\n",
      "448/448 [==============================] - 20s 44ms/step - loss: 0.1501 - accuracy: 0.9507 - val_loss: 2.0211 - val_accuracy: 0.6049\n",
      "Epoch 50/50\n",
      "448/448 [==============================] - 20s 44ms/step - loss: 0.1449 - accuracy: 0.9518 - val_loss: 2.0918 - val_accuracy: 0.5951\n"
     ]
    },
    {
     "data": {
      "text/plain": [
       "<keras.callbacks.History at 0x19fed312230>"
      ]
     },
     "execution_count": 69,
     "metadata": {},
     "output_type": "execute_result"
    }
   ],
   "source": [
    "model.fit(train_generator,\n",
    "             steps_per_epoch=28709//64,\n",
    "             epochs=50,\n",
    "             validation_data=validation_generator,\n",
    "             validation_steps=7178//64,\n",
    "             initial_epoch=3)"
   ]
  },
  {
   "cell_type": "code",
   "execution_count": null,
   "id": "14848773-86b7-4ebf-a40e-2d6c37ec2ffc",
   "metadata": {},
   "outputs": [],
   "source": []
  },
  {
   "cell_type": "code",
   "execution_count": null,
   "id": "3056c3a9-9f2d-4524-93d5-b17b18f8a2cc",
   "metadata": {},
   "outputs": [],
   "source": []
  },
  {
   "cell_type": "code",
   "execution_count": null,
   "id": "07955b5b-b487-498d-9341-556439ce9810",
   "metadata": {},
   "outputs": [],
   "source": []
  },
  {
   "cell_type": "code",
   "execution_count": null,
   "id": "160c6524-391d-42ec-a9aa-4589ef0cb812",
   "metadata": {},
   "outputs": [],
   "source": []
  },
  {
   "cell_type": "code",
   "execution_count": null,
   "id": "2aa30355-6a7d-4980-b4c6-8e103cea7476",
   "metadata": {},
   "outputs": [],
   "source": []
  },
  {
   "cell_type": "code",
   "execution_count": null,
   "id": "1ece54cf-6f26-462b-8e2f-5d7137245f9c",
   "metadata": {},
   "outputs": [],
   "source": []
  },
  {
   "cell_type": "code",
   "execution_count": null,
   "id": "acb09e45-cf7e-43a6-b20a-f3bc956f44bf",
   "metadata": {},
   "outputs": [],
   "source": []
  },
  {
   "cell_type": "code",
   "execution_count": null,
   "id": "85c8556e-7a5e-4b77-9788-b982b0ef0b8f",
   "metadata": {},
   "outputs": [],
   "source": []
  },
  {
   "cell_type": "code",
   "execution_count": null,
   "id": "8431a5df-fec3-46fc-814b-c3cdf4422ec6",
   "metadata": {},
   "outputs": [],
   "source": []
  },
  {
   "cell_type": "code",
   "execution_count": null,
   "id": "0b63378e-9455-4904-a90a-f08f79e4d065",
   "metadata": {},
   "outputs": [],
   "source": []
  },
  {
   "cell_type": "code",
   "execution_count": null,
   "id": "61c7b896-55f2-4045-9fed-67e05470db6c",
   "metadata": {},
   "outputs": [],
   "source": []
  },
  {
   "cell_type": "code",
   "execution_count": 70,
   "id": "5ee2952a",
   "metadata": {},
   "outputs": [],
   "source": [
    "model_json=emotion_model.to_json()\n",
    "with open(\"emotion_model.json\",\"w\") as json_file:\n",
    "    json_file.write(model_json)\n",
    "\n",
    "emotion_model.save_weights(\"emotion_model.h5\")"
   ]
  },
  {
   "cell_type": "code",
   "execution_count": null,
   "id": "97f3809f-4fd3-4fc1-b4f1-0339915d55f0",
   "metadata": {},
   "outputs": [],
   "source": []
  }
 ],
 "metadata": {
  "kernelspec": {
   "display_name": "Python 3 (ipykernel)",
   "language": "python",
   "name": "python3"
  },
  "language_info": {
   "codemirror_mode": {
    "name": "ipython",
    "version": 3
   },
   "file_extension": ".py",
   "mimetype": "text/x-python",
   "name": "python",
   "nbconvert_exporter": "python",
   "pygments_lexer": "ipython3",
   "version": "3.9.13"
  }
 },
 "nbformat": 4,
 "nbformat_minor": 5
}
